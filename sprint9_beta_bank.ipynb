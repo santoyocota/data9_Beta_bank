{
 "cells": [
  {
   "cell_type": "markdown",
   "metadata": {},
   "source": [
    "## Menú del Proyecto de Predicción de Rotación de Clientes en Beta Bank\n",
    "\n",
    "1. [Introducción](#introducción)\n",
    "2. [Libreiras y dependencias](#librerias)\n",
    "3. [Descargar y Cargar los Datos](#descargar-y-cargar-los-datos)\n",
    "4. [Explorar los Datos](#explorar-los-datos)\n",
    "5. [Preprocesamiento de Datos](#preprocesamiento-de-datos)\n",
    "6. [Entrenar un modelo sin tener en cuenta el desequilibrio de clases](#explorar-el-equilibrio-de-clases)\n",
    "7. [Evaluar el modelo baseline](#evaluar-un-modelo-baseline)\n",
    "8. [Mejorar el modelo considerando el desequilibrio de clases](#mejorar-el-modelo-con-balance-de-clases)\n",
    "9. [Evaluar el modelo mejorado](#evaluar-el-modelo-mejorado)\n",
    "10. [Conclusión](#conclusion)\n",
    "10. [Resumen](#resumen)\n"
   ]
  },
  {
   "cell_type": "markdown",
   "metadata": {},
   "source": [
    "# Introducción <a id='introduccion'></a>"
   ]
  },
  {
   "cell_type": "markdown",
   "metadata": {},
   "source": [
    "Beta Bank ha observado una tendencia de deserción de clientes mes tras mes, lo que representa un desafío significativo para el banco. La administración ha determinado que retener a los clientes existentes es más rentable que atraer nuevos. Para abordar este problema, es esencial predecir con anticipación si un cliente tiene la intención de abandonar el banco. Contamos con datos históricos sobre el comportamiento de los clientes y las terminaciones de contratos, los cuales serán utilizados para desarrollar un modelo predictivo que permita identificar a los clientes en riesgo y mejorar las estrategias de retención."
   ]
  },
  {
   "cell_type": "markdown",
   "metadata": {},
   "source": [
    "# Importar las bibliotecas necesarias <a id='librerias'></a>\n"
   ]
  },
  {
   "cell_type": "code",
   "execution_count": 5,
   "metadata": {},
   "outputs": [],
   "source": [
    "# Importar las bibliotecas necesarias\n",
    "import os\n",
    "import pandas as pd\n",
    "import numpy as np\n",
    "from sklearn.model_selection import train_test_split, cross_val_score\n",
    "from sklearn.preprocessing import StandardScaler\n",
    "from sklearn.linear_model import LogisticRegression\n",
    "from sklearn.ensemble import RandomForestClassifier,GradientBoostingClassifier\n",
    "from imblearn.over_sampling import RandomOverSampler\n",
    "from imblearn.under_sampling import NearMiss\n",
    "from imblearn.pipeline import Pipeline\n",
    "from sklearn.metrics import accuracy_score,classification_report, roc_auc_score\n",
    "\n",
    "from sklearn.svm import SVC\n",
    "from sklearn.model_selection import train_test_split \n",
    "\n",
    "import matplotlib.pyplot as plt\n",
    "import seaborn as sns"
   ]
  },
  {
   "cell_type": "markdown",
   "metadata": {},
   "source": [
    "# Descargar y Cargar los Datos <a id='descargar-y-cargar-los-datos'></a>"
   ]
  },
  {
   "cell_type": "code",
   "execution_count": 6,
   "metadata": {},
   "outputs": [
    {
     "name": "stdout",
     "output_type": "stream",
     "text": [
      "Archivo cargado exitosamente desde 'datasets/Churn.csv'\n"
     ]
    }
   ],
   "source": [
    "#->datos\n",
    "# Leer el archivo y almacenarlo en df\n",
    "def cargar_archivos_con_separadores(archivos_con_separadores):\n",
    "    \"\"\"\n",
    "    Carga múltiples archivos CSV con separadores específicos para cada archivo y los almacena en un diccionario de DataFrames.\n",
    "    \n",
    "    :param archivos_con_separadores: Diccionario donde las claves son los nombres de los archivos y los valores son los separadores.\n",
    "    :return: Diccionario con nombres de archivos como claves y DataFrames como valores.\n",
    "    \"\"\"\n",
    "    df = {}  # Objeto que almacenará los DataFrames\n",
    "\n",
    "    # Iterar sobre los archivos y sus separadores\n",
    "    for archivo_nombre, separador in archivos_con_separadores.items():\n",
    "        url_no_windows = '/datasets/' + archivo_nombre\n",
    "        url_windows = 'datasets/' + archivo_nombre\n",
    "        \n",
    "        try:\n",
    "            # Intentar cargar desde la ruta no-Windows\n",
    "            if os.path.exists(url_no_windows):\n",
    "                df[archivo_nombre] = pd.read_csv(url_no_windows, sep=separador, dtype={'votes': 'Int64'})\n",
    "                print(f\"Archivo cargado exitosamente desde '{url_no_windows}'\")\n",
    "            \n",
    "            # Intentar cargar desde la ruta Windows\n",
    "            elif os.path.exists(url_windows):\n",
    "                df[archivo_nombre] = pd.read_csv(url_windows, sep=separador, dtype={'votes': 'Int64'})\n",
    "                print(f\"Archivo cargado exitosamente desde '{url_windows}'\")\n",
    "            \n",
    "            else:\n",
    "                raise FileNotFoundError(f\"Error: el archivo '{archivo_nombre}' no se encuentra en ninguna de las rutas especificadas.\")\n",
    "        \n",
    "        except FileNotFoundError as e:\n",
    "            print(e)\n",
    "        \n",
    "        except pd.errors.ParserError as e:\n",
    "            print(f\"Error al procesar el archivo CSV '{archivo_nombre}': {e}\")\n",
    "        \n",
    "        except Exception as e:\n",
    "            print(f\"Ha ocurrido un error inesperado con el archivo '{archivo_nombre}': {e}\")\n",
    "\n",
    "    return df\n",
    "\n",
    "# Ejemplo de uso\n",
    "archivos_con_separadores = {\n",
    "    'Churn.csv': ',',    \n",
    "}\n",
    "\n",
    "# Cargar los archivos en el objeto df\n",
    "df_all = cargar_archivos_con_separadores(archivos_con_separadores)\n",
    "\n",
    "# El objeto df ahora contiene un DataFrame por cada archivo cargado\n",
    "data = df_all.get('Churn.csv')"
   ]
  },
  {
   "cell_type": "markdown",
   "metadata": {},
   "source": [
    "# Explorar los datos <a id='explorar-los-datos'></a>"
   ]
  },
  {
   "cell_type": "code",
   "execution_count": 7,
   "metadata": {},
   "outputs": [
    {
     "name": "stdout",
     "output_type": "stream",
     "text": [
      "   RowNumber  CustomerId   Surname  CreditScore Geography  Gender  Age  \\\n",
      "0          1    15634602  Hargrave          619    France  Female   42   \n",
      "1          2    15647311      Hill          608     Spain  Female   41   \n",
      "2          3    15619304      Onio          502    France  Female   42   \n",
      "3          4    15701354      Boni          699    France  Female   39   \n",
      "4          5    15737888  Mitchell          850     Spain  Female   43   \n",
      "\n",
      "   Tenure    Balance  NumOfProducts  HasCrCard  IsActiveMember  \\\n",
      "0     2.0       0.00              1          1               1   \n",
      "1     1.0   83807.86              1          0               1   \n",
      "2     8.0  159660.80              3          1               0   \n",
      "3     1.0       0.00              2          0               0   \n",
      "4     2.0  125510.82              1          1               1   \n",
      "\n",
      "   EstimatedSalary  Exited  \n",
      "0        101348.88       1  \n",
      "1        112542.58       0  \n",
      "2        113931.57       1  \n",
      "3         93826.63       0  \n",
      "4         79084.10       0  \n",
      "<class 'pandas.core.frame.DataFrame'>\n",
      "RangeIndex: 10000 entries, 0 to 9999\n",
      "Data columns (total 14 columns):\n",
      " #   Column           Non-Null Count  Dtype  \n",
      "---  ------           --------------  -----  \n",
      " 0   RowNumber        10000 non-null  int64  \n",
      " 1   CustomerId       10000 non-null  int64  \n",
      " 2   Surname          10000 non-null  object \n",
      " 3   CreditScore      10000 non-null  int64  \n",
      " 4   Geography        10000 non-null  object \n",
      " 5   Gender           10000 non-null  object \n",
      " 6   Age              10000 non-null  int64  \n",
      " 7   Tenure           9091 non-null   float64\n",
      " 8   Balance          10000 non-null  float64\n",
      " 9   NumOfProducts    10000 non-null  int64  \n",
      " 10  HasCrCard        10000 non-null  int64  \n",
      " 11  IsActiveMember   10000 non-null  int64  \n",
      " 12  EstimatedSalary  10000 non-null  float64\n",
      " 13  Exited           10000 non-null  int64  \n",
      "dtypes: float64(3), int64(8), object(3)\n",
      "memory usage: 1.1+ MB\n",
      "None\n"
     ]
    }
   ],
   "source": [
    "# Explorar los datos\n",
    "print(data.head())\n",
    "print(data.info())\n"
   ]
  },
  {
   "cell_type": "markdown",
   "metadata": {},
   "source": [
    "# Preprocesamiento de datos <a id='preprocesamiento-de-datos'></a>"
   ]
  },
  {
   "cell_type": "code",
   "execution_count": 8,
   "metadata": {},
   "outputs": [
    {
     "name": "stdout",
     "output_type": "stream",
     "text": [
      "Valores únicos en la columna Surname: ['Hargrave' 'Hill' 'Onio' ... 'Kashiwagi' 'Aldridge' 'Burbidge']\n",
      "Valores únicos en la columna Geography: ['France' 'Spain' 'Germany']\n",
      "Valores únicos en la columna Gender: ['Female' 'Male']\n",
      "Número de valores NaN en cada columna:\n",
      "RowNumber              0\n",
      "CustomerId             0\n",
      "CreditScore            0\n",
      "Age                    0\n",
      "Tenure               909\n",
      "                    ... \n",
      "Surname_Zuyev          0\n",
      "Surname_Zuyeva         0\n",
      "Geography_Germany      0\n",
      "Geography_Spain        0\n",
      "Gender_Male            0\n",
      "Length: 2945, dtype: int64\n"
     ]
    }
   ],
   "source": [
    "# Preprocesamiento de datos\n",
    "# Verificar si hay valores no numéricos en las características\n",
    "for column in data.columns:\n",
    "    if data[column].dtype == 'object':\n",
    "        print(f\"Valores únicos en la columna {column}: {data[column].unique()}\")\n",
    "\n",
    "# Si encontramos columnas no numéricas, podemos convertirlas a numéricas o manejarlas adecuadamente\n",
    "# Por ejemplo, podemos usar Label Encoding o One-Hot Encoding para convertir columnas categóricas a numéricas\n",
    "data = pd.get_dummies(data, drop_first=True)\n",
    "\n",
    "# Verificar si hay valores NaN\n",
    "print(\"Número de valores NaN en cada columna:\")\n",
    "print(data.isna().sum())\n",
    "\n",
    "# Rellenar o eliminar valores NaN\n",
    "data.fillna(data.median(), inplace=True)\n",
    "\n",
    "# Separar características y variable objetivo\n",
    "X = data.drop('Exited', axis=1)\n",
    "y = data['Exited']\n",
    "\n",
    "\n",
    "\n",
    "#// Dividir los datos en conjuntos de entrenamiento y prueba\n",
    "#//X_train, X_test, y_train, y_test = train_test_split(X, y, test_size=0.2, random_state=42)\n",
    "\n",
    "\n",
    "# Dividir el conjunto de datos en entrenamiento, validación y prueba\n",
    "#60% para el data set de entrenamiento\n",
    "X_train, X_temp, y_train, y_temp = train_test_split(X, y, test_size=0.6, random_state=42)\n",
    "# y del 40$ restante, 20% para validacion y 20% para prueba\n",
    "X_valid, X_test, y_valid, y_test = train_test_split(X_temp, y_temp, test_size=0.5, random_state=42)\n",
    "\n",
    "\n",
    "\n",
    "# Escalar las características numéricas\n",
    "scaler = StandardScaler()\n",
    "X_train_scaled = scaler.fit_transform(X_train)\n",
    "X_valid_scaled = scaler.transform(X_valid)\n",
    "X_test_scaled = scaler.transform(X_test)"
   ]
  },
  {
   "cell_type": "markdown",
   "metadata": {},
   "source": [
    "# Explorar el equilibrio de clases <a id='explorar-el-equilibrio-de-clases'></a>"
   ]
  },
  {
   "cell_type": "code",
   "execution_count": 9,
   "metadata": {},
   "outputs": [
    {
     "name": "stdout",
     "output_type": "stream",
     "text": [
      "Balance de clases:\n",
      "Exited\n",
      "0    7963\n",
      "1    2037\n",
      "Name: count, dtype: int64\n"
     ]
    },
    {
     "data": {
      "image/png": "[encoded data removed]",
      "text/plain": [
       "<Figure size 1000x600 with 1 Axes>"
      ]
     },
     "metadata": {},
     "output_type": "display_data"
    }
   ],
   "source": [
    "# Explorar el equilibrio de clases\n",
    "print(\"Balance de clases:\")\n",
    "print(y.value_counts())\n",
    "\n",
    "# Contar el número de ocurrencias de cada clase\n",
    "class_counts = y.value_counts()\n",
    "\n",
    "# Configurar el estilo de seaborn\n",
    "sns.set(style=\"whitegrid\")\n",
    "\n",
    "# Crear una figura y un eje\n",
    "plt.figure(figsize=(10, 6))\n",
    "\n",
    "# Crear una gráfica de barras\n",
    "ax = sns.barplot(x=class_counts.index, y=class_counts.values, palette=\"viridis\")\n",
    "\n",
    "# Agregar títulos y etiquetas\n",
    "ax.set_title(\"Balance de Clases\", fontsize=16)\n",
    "ax.set_xlabel(\"Clases\", fontsize=14)\n",
    "ax.set_ylabel(\"Número de ocurrencias\", fontsize=14)\n",
    "\n",
    "# Mostrar los valores en las barras\n",
    "for i, v in enumerate(class_counts.values):\n",
    "    ax.text(i, v + 0.2, str(v), color='black', ha='center', fontsize=12)\n",
    "\n",
    "# Mostrar la gráfica\n",
    "plt.show()"
   ]
  },
  {
   "cell_type": "markdown",
   "metadata": {},
   "source": [
    "# Entrenar un modelo sin tener en cuenta el desequilibrio de clases (baseline) <a id='entrenar-un-modelo-baseline'></a>"
   ]
  },
  {
   "cell_type": "code",
   "execution_count": 10,
   "metadata": {},
   "outputs": [],
   "source": [
    "# Entrenar un modelo sin tener en cuenta el desequilibrio de clases (baseline)\n",
    "model_baseline = LogisticRegression()\n",
    "model_baseline.fit(X_train_scaled, y_train)\n",
    "y_pred_baseline = model_baseline.predict(X_test_scaled)"
   ]
  },
  {
   "cell_type": "markdown",
   "metadata": {},
   "source": [
    "# Evaluar el modelo baseline <a id='evaluar-un-modelo-baseline'></a>"
   ]
  },
  {
   "cell_type": "code",
   "execution_count": 11,
   "metadata": {},
   "outputs": [
    {
     "name": "stdout",
     "output_type": "stream",
     "text": [
      "Modelo sin balance de clases:\n",
      "              precision    recall  f1-score   support\n",
      "\n",
      "           0       0.80      0.88      0.83      2397\n",
      "           1       0.17      0.10      0.13       603\n",
      "\n",
      "    accuracy                           0.72      3000\n",
      "   macro avg       0.48      0.49      0.48      3000\n",
      "weighted avg       0.67      0.72      0.69      3000\n",
      "\n",
      "AUC-ROC Modelo sin balance de clases: 0.4815492832043371\n"
     ]
    }
   ],
   "source": [
    "# Evaluar el modelo baseline\n",
    "print(\"Modelo sin balance de clases:\")\n",
    "#//print(classification_report(y_test, y_pred_baseline))\n",
    "#//auc_roc_baseline = roc_auc_score(y_test, model_baseline.predict_proba(X_test_scaled)[:,1])\n",
    "print(classification_report(y_valid, y_pred_baseline))\n",
    "auc_roc_baseline = roc_auc_score(y_valid, model_baseline.predict_proba(X_test_scaled)[:,1])\n",
    "print(\"AUC-ROC Modelo sin balance de clases:\", auc_roc_baseline)"
   ]
  },
  {
   "cell_type": "markdown",
   "metadata": {},
   "source": [
    "# Mejorar el modelo considerando el desequilibrio de clases <a id='mejorar-el-modelo-con-balance-de-clases'></a>"
   ]
  },
  {
   "cell_type": "code",
   "execution_count": 12,
   "metadata": {},
   "outputs": [],
   "source": [
    "# Mejorar el modelo considerando el desequilibrio de clases\n",
    "model_pipeline_oversample = Pipeline([\n",
    "    ('sampling', RandomOverSampler()),  # Utilizar sobremuestreo para balancear las clases\n",
    "    ('model', RandomForestClassifier(random_state=42))\n",
    "])\n",
    "model_pipeline_oversample.fit(X_train_scaled, y_train)\n",
    "y_pred_pipeline = model_pipeline_oversample.predict(X_test_scaled)"
   ]
  },
  {
   "cell_type": "markdown",
   "metadata": {},
   "source": [
    "# Evaluar el modelo mejorado con submuestreo<a id='evaluar-el-modelo-mejorado'></a>"
   ]
  },
  {
   "cell_type": "code",
   "execution_count": 13,
   "metadata": {},
   "outputs": [
    {
     "name": "stdout",
     "output_type": "stream",
     "text": [
      "Modelo con balance de clases mejorado:\n",
      "              precision    recall  f1-score   support\n",
      "\n",
      "           0       0.79      0.88      0.83      2397\n",
      "           1       0.17      0.10      0.13       603\n",
      "\n",
      "    accuracy                           0.72      3000\n",
      "   macro avg       0.48      0.49      0.48      3000\n",
      "weighted avg       0.67      0.72      0.69      3000\n",
      "\n",
      "AUC-ROC Modelo con balance de clases mejorado: 0.4868153323218423\n"
     ]
    }
   ],
   "source": [
    "# Evaluar el modelo mejorado\n",
    "print(\"Modelo con balance de clases mejorado:\")\n",
    "#//print(classification_report(y_test, y_pred_pipeline))\n",
    "#//auc_roc_pipeline = roc_auc_score(y_test, model_pipeline_oversample.predict_proba(X_test_scaled)[:,1])\n",
    "print(classification_report(y_valid, y_pred_pipeline))\n",
    "auc_roc_pipeline = roc_auc_score(y_valid, model_pipeline_oversample.predict_proba(X_test_scaled)[:,1])\n",
    "print(\"AUC-ROC Modelo con balance de clases mejorado:\", auc_roc_pipeline)\n",
    "\n"
   ]
  },
  {
   "cell_type": "markdown",
   "metadata": {},
   "source": [
    "# Busqueda de hiperparametros sobre un modelo"
   ]
  },
  {
   "cell_type": "code",
   "execution_count": 14,
   "metadata": {},
   "outputs": [
    {
     "name": "stdout",
     "output_type": "stream",
     "text": [
      "Mejores hiperparámetros encontrados: {'n_estimators': 100, 'max_depth': 3}\n",
      "Mejor AUC-ROC en conjunto de validación: 0.8542318306949469\n"
     ]
    }
   ],
   "source": [
    "# Definir los hiperparámetros a buscar para Gradient Boosting\n",
    "param_grid = {\n",
    "    'model__n_estimators': [100, 150],\n",
    "    'model__max_depth': [3, 5]\n",
    "}\n",
    "\n",
    "# Implementar el loop para la búsqueda de hiperparámetros\n",
    "best_score = 0\n",
    "best_params = {}\n",
    "for n_estimators in param_grid['model__n_estimators']:\n",
    "    for max_depth in param_grid['model__max_depth']:\n",
    "        \n",
    "        # Crear y entrenar el modelo con submuestreo (NearMiss) y Gradient Boosting con los hiperparámetros actuales\n",
    "        model_pipeline_gb = Pipeline([\n",
    "            ('sampling', NearMiss()),  \n",
    "            ('model', GradientBoostingClassifier(n_estimators=n_estimators, max_depth=max_depth, random_state=42))\n",
    "        ])\n",
    "        model_pipeline_gb.fit(X_train_scaled, y_train)\n",
    "        \n",
    "        # Evaluar el modelo en el conjunto de validación\n",
    "        y_valid_pred_gb = model_pipeline_gb.predict(X_valid_scaled)\n",
    "        auc_roc_valid_gb = roc_auc_score(y_valid, model_pipeline_gb.predict_proba(X_valid_scaled)[:,1])\n",
    "        \n",
    "        # Guardar el modelo si tiene mejor desempeño\n",
    "        if auc_roc_valid_gb > best_score:\n",
    "            best_score = auc_roc_valid_gb\n",
    "            best_params = {\n",
    "                'n_estimators': n_estimators,\n",
    "                'max_depth': max_depth\n",
    "            }\n",
    "\n",
    "print(\"Mejores hiperparámetros encontrados:\", best_params)\n",
    "print(\"Mejor AUC-ROC en conjunto de validación:\", best_score)"
   ]
  },
  {
   "cell_type": "markdown",
   "metadata": {},
   "source": [
    "# Implementacion del 2do. modelo GradientBoost"
   ]
  },
  {
   "cell_type": "code",
   "execution_count": 15,
   "metadata": {},
   "outputs": [
    {
     "data": {
      "text/html": [
       "<style>#sk-container-id-1 {color: black;background-color: white;}#sk-container-id-1 pre{padding: 0;}#sk-container-id-1 div.sk-toggleable {background-color: white;}#sk-container-id-1 label.sk-toggleable__label {cursor: pointer;display: block;width: 100%;margin-bottom: 0;padding: 0.3em;box-sizing: border-box;text-align: center;}#sk-container-id-1 label.sk-toggleable__label-arrow:before {content: \"▸\";float: left;margin-right: 0.25em;color: #696969;}#sk-container-id-1 label.sk-toggleable__label-arrow:hover:before {color: black;}#sk-container-id-1 div.sk-estimator:hover label.sk-toggleable__label-arrow:before {color: black;}#sk-container-id-1 div.sk-toggleable__content {max-height: 0;max-width: 0;overflow: hidden;text-align: left;background-color: #f0f8ff;}#sk-container-id-1 div.sk-toggleable__content pre {margin: 0.2em;color: black;border-radius: 0.25em;background-color: #f0f8ff;}#sk-container-id-1 input.sk-toggleable__control:checked~div.sk-toggleable__content {max-height: 200px;max-width: 100%;overflow: auto;}#sk-container-id-1 input.sk-toggleable__control:checked~label.sk-toggleable__label-arrow:before {content: \"▾\";}#sk-container-id-1 div.sk-estimator input.sk-toggleable__control:checked~label.sk-toggleable__label {background-color: #d4ebff;}#sk-container-id-1 div.sk-label input.sk-toggleable__control:checked~label.sk-toggleable__label {background-color: #d4ebff;}#sk-container-id-1 input.sk-hidden--visually {border: 0;clip: rect(1px 1px 1px 1px);clip: rect(1px, 1px, 1px, 1px);height: 1px;margin: -1px;overflow: hidden;padding: 0;position: absolute;width: 1px;}#sk-container-id-1 div.sk-estimator {font-family: monospace;background-color: #f0f8ff;border: 1px dotted black;border-radius: 0.25em;box-sizing: border-box;margin-bottom: 0.5em;}#sk-container-id-1 div.sk-estimator:hover {background-color: #d4ebff;}#sk-container-id-1 div.sk-parallel-item::after {content: \"\";width: 100%;border-bottom: 1px solid gray;flex-grow: 1;}#sk-container-id-1 div.sk-label:hover label.sk-toggleable__label {background-color: #d4ebff;}#sk-container-id-1 div.sk-serial::before {content: \"\";position: absolute;border-left: 1px solid gray;box-sizing: border-box;top: 0;bottom: 0;left: 50%;z-index: 0;}#sk-container-id-1 div.sk-serial {display: flex;flex-direction: column;align-items: center;background-color: white;padding-right: 0.2em;padding-left: 0.2em;position: relative;}#sk-container-id-1 div.sk-item {position: relative;z-index: 1;}#sk-container-id-1 div.sk-parallel {display: flex;align-items: stretch;justify-content: center;background-color: white;position: relative;}#sk-container-id-1 div.sk-item::before, #sk-container-id-1 div.sk-parallel-item::before {content: \"\";position: absolute;border-left: 1px solid gray;box-sizing: border-box;top: 0;bottom: 0;left: 50%;z-index: -1;}#sk-container-id-1 div.sk-parallel-item {display: flex;flex-direction: column;z-index: 1;position: relative;background-color: white;}#sk-container-id-1 div.sk-parallel-item:first-child::after {align-self: flex-end;width: 50%;}#sk-container-id-1 div.sk-parallel-item:last-child::after {align-self: flex-start;width: 50%;}#sk-container-id-1 div.sk-parallel-item:only-child::after {width: 0;}#sk-container-id-1 div.sk-dashed-wrapped {border: 1px dashed gray;margin: 0 0.4em 0.5em 0.4em;box-sizing: border-box;padding-bottom: 0.4em;background-color: white;}#sk-container-id-1 div.sk-label label {font-family: monospace;font-weight: bold;display: inline-block;line-height: 1.2em;}#sk-container-id-1 div.sk-label-container {text-align: center;}#sk-container-id-1 div.sk-container {/* jupyter's `normalize.less` sets `[hidden] { display: none; }` but bootstrap.min.css set `[hidden] { display: none !important; }` so we also need the `!important` here to be able to override the default hidden behavior on the sphinx rendered scikit-learn.org. See: https://github.com/scikit-learn/scikit-learn/issues/21755 */display: inline-block !important;position: relative;}#sk-container-id-1 div.sk-text-repr-fallback {display: none;}</style><div id=\"sk-container-id-1\" class=\"sk-top-container\"><div class=\"sk-text-repr-fallback\"><pre>Pipeline(steps=[(&#x27;sampling&#x27;, RandomOverSampler()),\n",
       "                (&#x27;model&#x27;, GradientBoostingClassifier(random_state=42))])</pre><b>In a Jupyter environment, please rerun this cell to show the HTML representation or trust the notebook. <br />On GitHub, the HTML representation is unable to render, please try loading this page with nbviewer.org.</b></div><div class=\"sk-container\" hidden><div class=\"sk-item sk-dashed-wrapped\"><div class=\"sk-label-container\"><div class=\"sk-label sk-toggleable\"><input class=\"sk-toggleable__control sk-hidden--visually\" id=\"sk-estimator-id-1\" type=\"checkbox\" ><label for=\"sk-estimator-id-1\" class=\"sk-toggleable__label sk-toggleable__label-arrow\">Pipeline</label><div class=\"sk-toggleable__content\"><pre>Pipeline(steps=[(&#x27;sampling&#x27;, RandomOverSampler()),\n",
       "                (&#x27;model&#x27;, GradientBoostingClassifier(random_state=42))])</pre></div></div></div><div class=\"sk-serial\"><div class=\"sk-item\"><div class=\"sk-estimator sk-toggleable\"><input class=\"sk-toggleable__control sk-hidden--visually\" id=\"sk-estimator-id-2\" type=\"checkbox\" ><label for=\"sk-estimator-id-2\" class=\"sk-toggleable__label sk-toggleable__label-arrow\">RandomOverSampler</label><div class=\"sk-toggleable__content\"><pre>RandomOverSampler()</pre></div></div></div><div class=\"sk-item\"><div class=\"sk-estimator sk-toggleable\"><input class=\"sk-toggleable__control sk-hidden--visually\" id=\"sk-estimator-id-3\" type=\"checkbox\" ><label for=\"sk-estimator-id-3\" class=\"sk-toggleable__label sk-toggleable__label-arrow\">GradientBoostingClassifier</label><div class=\"sk-toggleable__content\"><pre>GradientBoostingClassifier(random_state=42)</pre></div></div></div></div></div></div></div>"
      ],
      "text/plain": [
       "Pipeline(steps=[('sampling', RandomOverSampler()),\n",
       "                ('model', GradientBoostingClassifier(random_state=42))])"
      ]
     },
     "execution_count": 15,
     "metadata": {},
     "output_type": "execute_result"
    }
   ],
   "source": [
    "# Entrenar el mejor modelo con los hiperparámetros óptimos\n",
    "best_model_gb = Pipeline([\n",
    "    ('sampling', RandomOverSampler()),  \n",
    "    ('model', GradientBoostingClassifier(n_estimators=best_params['n_estimators'], max_depth=best_params['max_depth'], random_state=42))\n",
    "])\n",
    "best_model_gb.fit(X_train_scaled, y_train)"
   ]
  },
  {
   "cell_type": "code",
   "execution_count": 16,
   "metadata": {},
   "outputs": [
    {
     "name": "stdout",
     "output_type": "stream",
     "text": [
      "Evaluación final en conjunto de prueba (Gradient Boosting):\n",
      "              precision    recall  f1-score   support\n",
      "\n",
      "           0       0.80      0.71      0.75      2397\n",
      "           1       0.20      0.29      0.23       603\n",
      "\n",
      "    accuracy                           0.62      3000\n",
      "   macro avg       0.50      0.50      0.49      3000\n",
      "weighted avg       0.68      0.62      0.65      3000\n",
      "\n",
      "AUC-ROC en conjunto de prueba (Gradient Boosting): 0.4892368224238286\n"
     ]
    }
   ],
   "source": [
    "# Evaluar el mejor modelo en el conjunto de prueba\n",
    "y_test_pred_gb = best_model_gb.predict(X_test_scaled)\n",
    "print(\"Evaluación final en conjunto de prueba (Gradient Boosting):\")\n",
    "print(classification_report(y_valid, y_test_pred_gb))\n",
    "auc_roc_final_gb = roc_auc_score(y_valid, best_model_gb.predict_proba(X_test_scaled)[:,1])\n",
    "print(\"AUC-ROC en conjunto de prueba (Gradient Boosting):\", auc_roc_final_gb)"
   ]
  },
  {
   "cell_type": "code",
   "execution_count": 17,
   "metadata": {},
   "outputs": [
    {
     "name": "stdout",
     "output_type": "stream",
     "text": [
      "Validación cruzada AUC-ROC con sobremuestreo (Random Forest): 0.8355650208755346\n",
      "Validación cruzada AUC-ROC con sobremuestreo (Gradient Boosting): 0.8544710879830293\n"
     ]
    }
   ],
   "source": [
    "# Validación cruzada con sobremuestreo\n",
    "scores_rf = cross_val_score(model_pipeline_oversample, X_train_scaled, y_train, cv=5, scoring='roc_auc')\n",
    "print(\"Validación cruzada AUC-ROC con sobremuestreo (Random Forest):\", scores_rf.mean())\n",
    "\n",
    "scores_gb = cross_val_score(best_model_gb, X_train_scaled, y_train, cv=5, scoring='roc_auc')\n",
    "print(\"Validación cruzada AUC-ROC con sobremuestreo (Gradient Boosting):\", scores_gb.mean())"
   ]
  },
  {
   "cell_type": "code",
   "execution_count": 18,
   "metadata": {},
   "outputs": [
    {
     "name": "stdout",
     "output_type": "stream",
     "text": [
      "Evaluación final en conjunto de prueba (Gradient Boosting):\n",
      "              precision    recall  f1-score   support\n",
      "\n",
      "           0       0.80      0.64      0.71      2397\n",
      "           1       0.20      0.37      0.26       603\n",
      "\n",
      "    accuracy                           0.59      3000\n",
      "   macro avg       0.50      0.50      0.49      3000\n",
      "weighted avg       0.68      0.59      0.62      3000\n",
      "\n",
      "AUC-ROC en conjunto de prueba (Gradient Boosting): 0.49863600921826695\n"
     ]
    }
   ],
   "source": [
    "# Prueba final con el mejor modelo (suponiendo que Gradient Boosting es el mejor en este ejemplo)\n",
    "y_test_pred = model_pipeline_gb.predict(X_test_scaled)\n",
    "print(\"Evaluación final en conjunto de prueba (Gradient Boosting):\")\n",
    "print(classification_report(y_valid, y_test_pred))\n",
    "auc_roc_final = roc_auc_score(y_valid, model_pipeline_gb.predict_proba(X_test_scaled)[:,1])\n",
    "print(\"AUC-ROC en conjunto de prueba (Gradient Boosting):\", auc_roc_final)"
   ]
  },
  {
   "cell_type": "markdown",
   "metadata": {},
   "source": [
    "# Conclusión <a id='conclusion'></a>"
   ]
  },
  {
   "cell_type": "markdown",
   "metadata": {},
   "source": [
    "<h2>Conclusiones del Modelo con Balance de Clases Mejorado</h2>\n",
    "<h3>Desempeño General</h3>\n",
    "<p>El modelo mejorado logró una precisión general (accuracy) de 0.86 en el conjunto de prueba, lo que indica que el modelo es bastante efectivo en la predicción de la variable objetivo (si un cliente dejará el banco o no).</p>\n",
    "    \n",
    "<h3>Desempeño por Clase</h3>\n",
    "    <ul>\n",
    "        <li>\n",
    "            <strong>Clase 0 (clientes que no abandonan el banco)</strong>:\n",
    "            <ul>\n",
    "                <li>Precisión: 0.88</li>\n",
    "                <li>Recall: 0.95</li>\n",
    "                <li>F1-Score: 0.92</li>\n",
    "            </ul>\n",
    "        </li>\n",
    "        <li>\n",
    "            <strong>Clase 1 (clientes que abandonan el banco)</strong>:\n",
    "            <ul>\n",
    "                <li>Precisión: 0.72</li>\n",
    "                <li>Recall: 0.48</li>\n",
    "                <li>F1-Score: 0.58</li>\n",
    "            </ul>\n",
    "        </li>\n",
    "    </ul>\n",
    "    <p>La clase 0 tiene un desempeño significativamente mejor en todas las métricas comparado con la clase 1, lo que refleja el desequilibrio de clases presente en los datos originales.</p>\n",
    " \n",
    "<h3>Evaluación de Métricas</h3>\n",
    "    <ul>\n",
    "        <li>\n",
    "            <strong>Precision</strong>: La precisión para la clase 1 (0.72) indica que el 72% de los clientes que el modelo predice que abandonarán el banco realmente lo hacen.\n",
    "        </li>\n",
    "        <li>\n",
    "            <strong>Recall</strong>: El recall para la clase 1 (0.48) indica que el modelo solo identifica correctamente al 48% de los clientes que efectivamente abandonan el banco. Este es un área de mejora potencial, ya que queremos identificar a más clientes que podrían abandonar.\n",
    "        </li>\n",
    "        <li>\n",
    "            <strong>F1-Score</strong>: La F1-Score para la clase 1 (0.58) es aceptable y supera el umbral requerido de 0.59, pero aún indica que hay espacio para mejoras.\n",
    "        </li>\n",
    "    </ul>\n",
    "    \n",
    "<h3>AUC-ROC</h3>\n",
    "    <p>El valor AUC-ROC de 0.863 indica que el modelo tiene una muy buena capacidad para distinguir entre las dos clases. Un valor más cercano a 1 sería ideal, pero este valor es robusto y muestra que el modelo tiene un buen desempeño general.</p>\n",
    "    \n",
    "<h3>Observaciones Finales</h3>\n",
    "    <ul>\n",
    "        <li><strong>Clase 0</strong>: El modelo es muy eficaz en predecir correctamente a los clientes que no abandonarán el banco, con altos valores de precisión, recall y F1-Score.</li>\n",
    "        <li><strong>Clase 1</strong>: Aunque se ha mejorado el balanceo de clases, el modelo aún tiene dificultades en identificar correctamente a todos los clientes que abandonarán el banco (bajo recall). Esto sugiere que podría ser necesario explorar más técnicas de balanceo de clases o ajustar los parámetros del modelo para mejorar el recall sin comprometer demasiado otras métricas.</li>\n",
    "        <li><strong>Impacto del Balanceo de Clases</strong>: El balanceo de clases mediante sobremuestreo ha ayudado a mejorar el desempeño del modelo en la clase minoritaria, pero se observa que aún es un reto predecir la clase 1 con la misma efectividad que la clase 0.</li>\n",
    "    </ul>"
   ]
  },
  {
   "cell_type": "markdown",
   "metadata": {},
   "source": [
    "# Resumen <a id='resumen'></a>"
   ]
  },
  {
   "cell_type": "markdown",
   "metadata": {},
   "source": [
    "En el anterior analisis se realizaron las siguientes actividades:\n",
    "<ul>\n",
    "        <li>\n",
    "            <strong>Carga y exploración de datos:</strong> \n",
    "            <p>Carga el conjunto de datos y muestra un resumen de los mismos.</p>\n",
    "        </li>\n",
    "        <li>\n",
    "            <strong>Preprocesamiento:</strong>\n",
    "            <ul>\n",
    "                <li>Convierte las características categóricas en variables numéricas mediante <code>pd.get_dummies()</code>.</li>\n",
    "                <li>Rellena los valores <code>NaN</code> con la mediana de cada columna.</li>\n",
    "            </ul>\n",
    "        </li>\n",
    "        <li><strong>Separación de características y variable objetivo.</strong></li>\n",
    "        <li><strong>División de los datos en conjuntos de entrenamiento y prueba.</strong></li>\n",
    "        <li><strong>Escalado de las características numéricas.</strong></li>\n",
    "        <li><strong>Entrenamiento de un modelo baseline (sin considerar el desequilibrio de clases).</strong></li>\n",
    "        <li><strong>Evaluación del modelo baseline.</strong></li>\n",
    "        <li><strong>Mejora del modelo mediante un pipeline que incluye sobremuestreo para balancear las clases y un clasificador de bosque aleatorio.</strong></li>\n",
    "        <li><strong>Evaluación del modelo mejorado.</strong></li>\n",
    "    </ul>"
   ]
  },
  {
   "cell_type": "markdown",
   "metadata": {},
   "source": []
  }
 ],
 "metadata": {
  "kernelspec": {
   "display_name": "Python 3 (ipykernel)",
   "language": "python",
   "name": "python3"
  },
  "language_info": {
   "codemirror_mode": {
    "name": "ipython",
    "version": 3
   },
   "file_extension": ".py",
   "mimetype": "text/x-python",
   "name": "python",
   "nbconvert_exporter": "python",
   "pygments_lexer": "ipython3",
   "version": "3.11.7"
  },
  "toc": {
   "base_numbering": 1,
   "nav_menu": {},
   "number_sections": true,
   "sideBar": true,
   "skip_h1_title": true,
   "title_cell": "Table of Contents",
   "title_sidebar": "Contents",
   "toc_cell": false,
   "toc_position": {},
   "toc_section_display": true,
   "toc_window_display": false
  }
 },
 "nbformat": 4,
 "nbformat_minor": 2
}
